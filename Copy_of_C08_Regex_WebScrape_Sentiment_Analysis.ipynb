{
  "nbformat": 4,
  "nbformat_minor": 0,
  "metadata": {
    "kernelspec": {
      "display_name": "Python 3",
      "language": "python",
      "name": "python3"
    },
    "language_info": {
      "codemirror_mode": {
        "name": "ipython",
        "version": 3
      },
      "file_extension": ".py",
      "mimetype": "text/x-python",
      "name": "python",
      "nbconvert_exporter": "python",
      "pygments_lexer": "ipython3",
      "version": "3.7.4"
    },
    "colab": {
      "provenance": [],
      "include_colab_link": true
    }
  },
  "cells": [
    {
      "cell_type": "markdown",
      "metadata": {
        "id": "view-in-github",
        "colab_type": "text"
      },
      "source": [
        "<a href=\"https://colab.research.google.com/github/CoderShad/FIN-ADV-AI/blob/main/Copy_of_C08_Regex_WebScrape_Sentiment_Analysis.ipynb\" target=\"_parent\"><img src=\"https://colab.research.google.com/assets/colab-badge.svg\" alt=\"Open In Colab\"/></a>"
      ]
    },
    {
      "cell_type": "markdown",
      "source": [
        "# Regex practice\n",
        "\n",
        "1. NL: Matches the exact string \"NL\".\n",
        "2. [0-9]{9}: Matches exactly 9 digits (0-9).\n",
        "3. B: Matches the exact letter \"B\".\n",
        "4. [0-9]{2}: Matches exactly 2 digits (0-9).\n",
        "\n",
        "This pattern below is designed to match strings that start with \"NL\", followed by 9 digits, then \"B\", and end with 2 digits (like \"NL003028112B01\").\n",
        "\n",
        "The findall function searches through the my_string for all occurrences that match the specified pattern. It returns a list of all the matches it finds. In this case, it will find \"NL003028112B01\" in the string because it matches the pattern.\n",
        "\n",
        "The span() method of a match object returns a tuple indicating the start and end positions of the matched substring within my_string."
      ],
      "metadata": {
        "id": "qloRBKjfgYdI"
      }
    },
    {
      "cell_type": "code",
      "source": [
        "import re\n",
        "pattern = 'NL[0-9]{9}B[0-9]{2}'\n",
        "my_string = 'ING Bank N.V. BTW:NL003028112B01'\n",
        "re.findall(pattern,my_string)\n",
        "match = re.search(pattern,my_string)\n",
        "match.span()"
      ],
      "metadata": {
        "colab": {
          "base_uri": "https://localhost:8080/"
        },
        "id": "fOxBm1vQgqRh",
        "outputId": "71b537c4-c8ad-4b48-966c-8bd8eb36c690"
      },
      "execution_count": null,
      "outputs": [
        {
          "output_type": "execute_result",
          "data": {
            "text/plain": [
              "(18, 32)"
            ]
          },
          "metadata": {},
          "execution_count": 1
        }
      ]
    },
    {
      "cell_type": "markdown",
      "metadata": {
        "id": "yeEtkHRFLJ7Q"
      },
      "source": [
        "# Requests to download webpages\n",
        "\n",
        "Import the package \"request\". The requests library is the de facto standard for making HTTP or HTTPS requests in Python."
      ]
    },
    {
      "cell_type": "code",
      "metadata": {
        "id": "QpYj-tz7Kw76"
      },
      "source": [
        "import requests\n",
        "import pandas as pd"
      ],
      "execution_count": null,
      "outputs": []
    },
    {
      "cell_type": "markdown",
      "metadata": {
        "id": "PnwbXvwfNyH7"
      },
      "source": [
        "Get the content from the web address listed and store the content in \"amazon10k2019\".\n",
        "\n"
      ]
    },
    {
      "cell_type": "markdown",
      "metadata": {
        "id": "QTSXb6ImQozW"
      },
      "source": [
        "This website contains the 10k filing of Amazon com for year 2019."
      ]
    },
    {
      "cell_type": "code",
      "metadata": {
        "id": "J5wJA13YNKlu",
        "colab": {
          "base_uri": "https://localhost:8080/"
        },
        "outputId": "61d68610-ca63-4266-c629-60c9ee5013db"
      },
      "source": [
        "amazon10k2019=requests.get('https://www.sec.gov/Archives/edgar/data/1018724/000101872420000004/0001018724-20-000004.txt', headers={'User-Agent': 'Mozilla/5.0'}).text\n",
        "print(amazon10k2019)"
      ],
      "execution_count": null,
      "outputs": [
        {
          "output_type": "stream",
          "name": "stdout",
          "text": [
            "<!DOCTYPE html PUBLIC \"-//W3C//DTD XHTML 1.0 Transitional//EN\" \"http://www.w3.org/TR/xhtml1/DTD/xhtml1-transitional.dtd\">\n",
            "<html xmlns=\"http://www.w3.org/1999/xhtml\">\n",
            "<head>\n",
            "<meta http-equiv=\"Content-Type\" content=\"text/html; charset=UTF-8\" />\n",
            "<title>SEC.gov | Request Rate Threshold Exceeded</title>\n",
            "<style>\n",
            "html {height: 100%}\n",
            "body {height: 100%; margin:0; padding:0;}\n",
            "#header {background-color:#003968; color:#fff; padding:15px 20px 10px 20px;font-family:Arial, Helvetica, sans-serif; font-size:20px; border-bottom:solid 5px #000;}\n",
            "#footer {background-color:#003968; color:#fff; padding:15px 20px;font-family:Arial, Helvetica, sans-serif; font-size:20px;}\n",
            "#content {max-width:650px;margin:60px auto; padding:0 20px 100px 20px; background-image:url(seal_bw.png);background-repeat:no-repeat;background-position:50% 100%;}\n",
            "h1 {font-family:Georgia, Times, serif; font-size:20px;}\n",
            "h2 {text-align:center; font-family:Georgia, Times, serif; font-size:20px; width:100%; border-bottom:solid #999 1px;padding-bottom:10px; margin-bottom:20px;}\n",
            "h3 {font-family:Georgia, Times, serif; font-size:16px; margin:25px 0 0 0;}\n",
            "p {font-family:Verdana, Geneva, sans-serif;font-size:14px;line-height:1.3;}\n",
            ".grey_box {background-color:#eee; padding:5px 40px 20px 40px;margin-top:75px;}\n",
            ".grey_box p {font-size:12px;line-height:1.5}\n",
            ".note {padding: 0 40px; font-style: italic;}\n",
            "</style>\n",
            "</head>\n",
            "\n",
            "<body>\n",
            "<div id=\"header\">U.S. Securities and Exchange Commission</div>\n",
            "<div id=\"content\">\n",
            "<h1>Your Request Originates from an Undeclared Automated Tool</h1>\n",
            "<p>To allow for equitable access to all users, SEC reserves the right to limit requests originating from undeclared automated tools. Your request has been identified as part of a network of automated tools outside of the acceptable policy and will be managed until action is taken to declare your traffic.</p>\n",
            "\n",
            "<p>Please declare your traffic by updating your user agent to include company specific information.</p>\n",
            "\n",
            "\n",
            "<p>For best practices on efficiently downloading information from SEC.gov, including the latest EDGAR filings, visit <a href=\"https://www.sec.gov/developer\" target=\"_blank\">sec.gov/developer</a>. You can also <a href=\"https://public.govdelivery.com/accounts/USSEC/subscriber/new?topic_id=USSEC_260\" target=\"_blank\">sign up for email updates</a> on the SEC open data program, including best practices that make it more efficient to download data, and SEC.gov enhancements that may impact scripted downloading processes. For more information, contact <a href=\"mailto:opendata@sec.gov\">opendata@sec.gov</a>.</p>\n",
            "\n",
            "<p>For more information, please see the SECâs <a href=\"#internet\">Web Site Privacy and Security Policy</a>. Thank you for your interest in the U.S. Securities and Exchange Commission.\n",
            "<p>Reference ID: 0.6855c817.1744561720.2b184768</p>\n",
            "<div class=\"grey_box\">\n",
            "<h2>More Information</h2>\n",
            "<h3><a name=\"internet\">Internet Security Policy</a></h3>\n",
            "\n",
            "<p>By using this site, you are agreeing to security monitoring and auditing. For security purposes, and to ensure that the public service remains available to users, this government computer system employs programs to monitor network traffic to identify unauthorized attempts to upload or change information or to otherwise cause damage, including attempts to deny service to users.</p>\n",
            "\n",
            "<p>Unauthorized attempts to upload information and/or change information on any portion of this site are strictly prohibited and are subject to prosecution under the Computer Fraud and Abuse Act of 1986 and the National Information Infrastructure Protection Act of 1996 (see Title 18 U.S.C. Â§Â§ 1001 and 1030).</p>\n",
            "\n",
            "<p>To ensure our website performs well for all users, the SEC monitors the frequency of requests for SEC.gov content to ensure automated searches do not impact the ability of others to access SEC.gov content. We reserve the right to block IP addresses that submit excessive requests.  Current guidelines limit users to a total of no more than 10 requests per second, regardless of the number of machines used to submit requests. </p>\n",
            "\n",
            "<p>If a user or application submits more than 10 requests per second, further requests from the IP address(es) may be limited for a brief period. Once the rate of requests has dropped below the threshold for 10 minutes, the user may resume accessing content on SEC.gov. This SEC practice is designed to limit excessive automated searches on SEC.gov and is not intended or expected to impact individuals browsing the SEC.gov website. </p>\n",
            "\n",
            "<p>Note that this policy may change as the SEC manages SEC.gov to ensure that the website performs efficiently and remains available to all users.</p>\n",
            "</div>\n",
            "<br>\n",
            "<p class=\"note\"><b>Note:</b> We do not offer technical support for developing or debugging scripted downloading processes.</P>\n",
            "</div>\n",
            "</body>\n",
            "</html>\n",
            "\n"
          ]
        }
      ]
    },
    {
      "cell_type": "markdown",
      "source": [
        "\n",
        "\n",
        "---\n",
        "\n",
        "# Parse HTML Code With Beautiful Soup\n",
        "\n",
        "You’ve successfully scraped some HTML from the internet, but when you look at it, it looks like a mess. There are tons of HTML elements here and there, thousands of attributes scattered around—and maybe there’s some JavaScript mixed in as well? It’s time to parse this lengthy code response with the help of Python to make it more accessible so you can pick out the data that you want.\n",
        "\n",
        "Beautiful Soup is a Python library for parsing structured data. It allows you to interact with HTML in a similar way to how you interact with a web page using developer tools. The library exposes intuitive methods that you can use to explore the HTML you received."
      ],
      "metadata": {
        "id": "FFFzs8hiBDs_"
      }
    },
    {
      "cell_type": "code",
      "source": [
        "from bs4 import BeautifulSoup"
      ],
      "metadata": {
        "id": "jqhyprdrB6lO"
      },
      "execution_count": null,
      "outputs": []
    },
    {
      "cell_type": "code",
      "source": [
        "soup = BeautifulSoup(amazon10k2019, \"html.parser\")\n",
        "\n",
        "# Remove unwanted tags like <script> and <style>\n",
        "for tag in soup([\"script\", \"style\"]):\n",
        "    tag.decompose()\n",
        "\n",
        "# Extract cleaned text\n",
        "cleaned_text = soup.get_text()\n",
        "\n",
        "# Remove extra whitespaces\n",
        "cleaned_text = \" \".join(cleaned_text.split())\n",
        "\n",
        "# Print the cleaned text\n",
        "print(cleaned_text)"
      ],
      "metadata": {
        "colab": {
          "base_uri": "https://localhost:8080/"
        },
        "id": "YNcPsfMMCAL7",
        "outputId": "8267580b-ae84-420e-e8dd-d0bd264c89a0"
      },
      "execution_count": null,
      "outputs": [
        {
          "output_type": "stream",
          "name": "stdout",
          "text": [
            "SEC.gov | Request Rate Threshold Exceeded U.S. Securities and Exchange Commission Your Request Originates from an Undeclared Automated Tool To allow for equitable access to all users, SEC reserves the right to limit requests originating from undeclared automated tools. Your request has been identified as part of a network of automated tools outside of the acceptable policy and will be managed until action is taken to declare your traffic. Please declare your traffic by updating your user agent to include company specific information. For best practices on efficiently downloading information from SEC.gov, including the latest EDGAR filings, visit sec.gov/developer. You can also sign up for email updates on the SEC open data program, including best practices that make it more efficient to download data, and SEC.gov enhancements that may impact scripted downloading processes. For more information, contact opendata@sec.gov. For more information, please see the SECâs Web Site Privacy and Security Policy. Thank you for your interest in the U.S. Securities and Exchange Commission. Reference ID: 0.6855c817.1744561720.2b184768 More Information Internet Security Policy By using this site, you are agreeing to security monitoring and auditing. For security purposes, and to ensure that the public service remains available to users, this government computer system employs programs to monitor network traffic to identify unauthorized attempts to upload or change information or to otherwise cause damage, including attempts to deny service to users. Unauthorized attempts to upload information and/or change information on any portion of this site are strictly prohibited and are subject to prosecution under the Computer Fraud and Abuse Act of 1986 and the National Information Infrastructure Protection Act of 1996 (see Title 18 U.S.C. Â§Â§ 1001 and 1030). To ensure our website performs well for all users, the SEC monitors the frequency of requests for SEC.gov content to ensure automated searches do not impact the ability of others to access SEC.gov content. We reserve the right to block IP addresses that submit excessive requests. Current guidelines limit users to a total of no more than 10 requests per second, regardless of the number of machines used to submit requests. If a user or application submits more than 10 requests per second, further requests from the IP address(es) may be limited for a brief period. Once the rate of requests has dropped below the threshold for 10 minutes, the user may resume accessing content on SEC.gov. This SEC practice is designed to limit excessive automated searches on SEC.gov and is not intended or expected to impact individuals browsing the SEC.gov website. Note that this policy may change as the SEC manages SEC.gov to ensure that the website performs efficiently and remains available to all users. Note: We do not offer technical support for developing or debugging scripted downloading processes.\n"
          ]
        }
      ]
    },
    {
      "cell_type": "markdown",
      "source": [
        "\n",
        "\n",
        "---\n",
        "\n",
        "# Sentiment Analysis"
      ],
      "metadata": {
        "id": "PWZAmhhqA-lb"
      }
    },
    {
      "cell_type": "markdown",
      "metadata": {
        "id": "zex9Oir4MfY1"
      },
      "source": [
        "Here we define a list of words that are associated with \"positive\". These words are taken from Loughran and McDonald (2011) financial sentiment dictionary. This dictionary provides the list of words in six categories (negative, positive, uncertainty, litigious, strong modal, and weak modal) (https://sraf.nd.edu/loughranmcdonald-master-dictionary/)."
      ]
    },
    {
      "cell_type": "code",
      "metadata": {
        "id": "RKwG6M9msUsH",
        "colab": {
          "base_uri": "https://localhost:8080/"
        },
        "outputId": "af5dd0e4-c63c-4729-cb4f-666a6a7eceb1"
      },
      "source": [
        "lm_dict = pd.read_csv('https://raw.githubusercontent.com/mjha91/data/main/fi8092/LMdict.csv')\n",
        "lm_dict = lm_dict[lm_dict['Positive'] > 0]\n",
        "print(lm_dict.head())"
      ],
      "execution_count": null,
      "outputs": [
        {
          "output_type": "stream",
          "name": "stdout",
          "text": [
            "           Word  Seq_num  Word Count  Word Proportion  Average Proportion  \\\n",
            "125        ABLE      126     5479229     2.218970e-04        2.110400e-04   \n",
            "336   ABUNDANCE      337        9622     3.900000e-07        3.770000e-07   \n",
            "338    ABUNDANT      339       14106     5.710000e-07        5.220000e-07   \n",
            "438   ACCLAIMED      439        2544     1.030000e-07        9.390000e-08   \n",
            "477  ACCOMPLISH      478      204431     8.280000e-06        8.650000e-06   \n",
            "\n",
            "      Std Dev  Doc Count  Negative  Positive  Uncertainty  Litigious  \\\n",
            "125  0.000301     770628         0      2009            0          0   \n",
            "336  0.000009       7425         0      2009            0          0   \n",
            "338  0.000009      10145         0      2009            0          0   \n",
            "438  0.000003       1876         0      2009            0          0   \n",
            "477  0.000042     136954         0      2009            0          0   \n",
            "\n",
            "     Strong_Modal  Weak_Modal  Constraining  Complexity  Syllables     Source  \n",
            "125             0           0             0           0          2  12of12inf  \n",
            "336             0           0             0           0          3  12of12inf  \n",
            "338             0           0             0           0          3  12of12inf  \n",
            "438             0           0             0           0          2  12of12inf  \n",
            "477             0           0             0           0          3  12of12inf  \n"
          ]
        }
      ]
    },
    {
      "cell_type": "code",
      "source": [
        "words = lm_dict['Word'].to_list()\n",
        "print(words)\n",
        "print(len(words))"
      ],
      "metadata": {
        "colab": {
          "base_uri": "https://localhost:8080/"
        },
        "id": "mexnfa6lHe5S",
        "outputId": "7f0d4c32-d86d-470d-d3c5-26f06ba4e5b3"
      },
      "execution_count": null,
      "outputs": [
        {
          "output_type": "stream",
          "name": "stdout",
          "text": [
            "['ABLE', 'ABUNDANCE', 'ABUNDANT', 'ACCLAIMED', 'ACCOMPLISH', 'ACCOMPLISHED', 'ACCOMPLISHES', 'ACCOMPLISHING', 'ACCOMPLISHMENT', 'ACCOMPLISHMENTS', 'ACHIEVE', 'ACHIEVED', 'ACHIEVEMENT', 'ACHIEVEMENTS', 'ACHIEVES', 'ACHIEVING', 'ADEQUATELY', 'ADVANCEMENT', 'ADVANCEMENTS', 'ADVANCES', 'ADVANCING', 'ADVANTAGE', 'ADVANTAGED', 'ADVANTAGEOUS', 'ADVANTAGEOUSLY', 'ADVANTAGES', 'ALLIANCE', 'ALLIANCES', 'ASSURE', 'ASSURED', 'ASSURES', 'ASSURING', 'ATTAIN', 'ATTAINED', 'ATTAINING', 'ATTAINMENT', 'ATTAINMENTS', 'ATTAINS', 'ATTRACTIVE', 'ATTRACTIVENESS', 'BEAUTIFUL', 'BEAUTIFULLY', 'BENEFICIALLY', 'BENEFITED', 'BENEFITING', 'BENEFITTED', 'BENEFITTING', 'BEST', 'BETTER', 'BOLSTERED', 'BOLSTERING', 'BOLSTERS', 'BOOM', 'BOOMING', 'BOOST', 'BOOSTED', 'BREAKTHROUGH', 'BREAKTHROUGHS', 'BRILLIANT', 'CHARITABLE', 'COLLABORATE', 'COLLABORATED', 'COLLABORATES', 'COLLABORATING', 'COLLABORATION', 'COLLABORATIONS', 'COLLABORATIVE', 'COLLABORATOR', 'COLLABORATORS', 'COMPLIMENT', 'COMPLIMENTARY', 'COMPLIMENTED', 'COMPLIMENTING', 'COMPLIMENTS', 'CONCLUSIVE', 'CONCLUSIVELY', 'CONDUCIVE', 'CONFIDENT', 'CONSTRUCTIVE', 'CONSTRUCTIVELY', 'COURTEOUS', 'CREATIVE', 'CREATIVELY', 'CREATIVENESS', 'CREATIVITY', 'DELIGHT', 'DELIGHTED', 'DELIGHTFUL', 'DELIGHTFULLY', 'DELIGHTING', 'DELIGHTS', 'DEPENDABILITY', 'DEPENDABLE', 'DESIRABLE', 'DESIRED', 'DESPITE', 'DESTINED', 'DILIGENT', 'DILIGENTLY', 'DISTINCTION', 'DISTINCTIONS', 'DISTINCTIVE', 'DISTINCTIVELY', 'DISTINCTIVENESS', 'DREAM', 'EASIER', 'EASILY', 'EASY', 'EFFICIENCIES', 'EFFICIENCY', 'EFFICIENT', 'EFFICIENTLY', 'EMPOWER', 'EMPOWERED', 'EMPOWERING', 'EMPOWERS', 'ENABLE', 'ENABLED', 'ENABLES', 'ENABLING', 'ENCOURAGED', 'ENCOURAGEMENT', 'ENCOURAGES', 'ENCOURAGING', 'ENHANCE', 'ENHANCED', 'ENHANCEMENT', 'ENHANCEMENTS', 'ENHANCES', 'ENHANCING', 'ENJOY', 'ENJOYABLE', 'ENJOYABLY', 'ENJOYED', 'ENJOYING', 'ENJOYMENT', 'ENJOYS', 'ENTHUSIASM', 'ENTHUSIASTIC', 'ENTHUSIASTICALLY', 'EXCELLENCE', 'EXCELLENT', 'EXCELLING', 'EXCELS', 'EXCEPTIONAL', 'EXCEPTIONALLY', 'EXCITED', 'EXCITEMENT', 'EXCITING', 'EXCLUSIVE', 'EXCLUSIVELY', 'EXCLUSIVENESS', 'EXCLUSIVES', 'EXCLUSIVITY', 'EXEMPLARY', 'FANTASTIC', 'FAVORABLE', 'FAVORABLY', 'FAVORED', 'FAVORING', 'FAVORITE', 'FAVORITES', 'FRIENDLY', 'GAIN', 'GAINED', 'GAINING', 'GAINS', 'GOOD', 'GREATEST', 'GREATLY', 'GREATNESS', 'HAPPIEST', 'HAPPILY', 'HAPPINESS', 'HAPPY', 'HIGHEST', 'HONOR', 'HONORED', 'HONORING', 'HONORS', 'IDEAL', 'IMPRESS', 'IMPRESSED', 'IMPRESSES', 'IMPRESSING', 'IMPRESSIVE', 'IMPRESSIVELY', 'IMPROVE', 'IMPROVED', 'IMPROVEMENT', 'IMPROVEMENTS', 'IMPROVES', 'IMPROVING', 'INCREDIBLE', 'INCREDIBLY', 'INFLUENTIAL', 'INFORMATIVE', 'INGENUITY', 'INNOVATE', 'INNOVATED', 'INNOVATES', 'INNOVATING', 'INNOVATION', 'INNOVATIONS', 'INNOVATIVE', 'INNOVATIVENESS', 'INNOVATOR', 'INNOVATORS', 'INSIGHTFUL', 'INSPIRATION', 'INSPIRATIONAL', 'INTEGRITY', 'INVENT', 'INVENTED', 'INVENTING', 'INVENTION', 'INVENTIONS', 'INVENTIVE', 'INVENTIVENESS', 'INVENTOR', 'INVENTORS', 'LEADERSHIP', 'LEADING', 'LOYAL', 'LUCRATIVE', 'MERITORIOUS', 'OPPORTUNITIES', 'OPPORTUNITY', 'OPTIMISTIC', 'OUTPERFORM', 'OUTPERFORMED', 'OUTPERFORMING', 'OUTPERFORMS', 'PERFECT', 'PERFECTED', 'PERFECTLY', 'PERFECTS', 'PLEASANT', 'PLEASANTLY', 'PLEASED', 'PLEASURE', 'PLENTIFUL', 'POPULAR', 'POPULARITY', 'POSITIVE', 'POSITIVELY', 'PREEMINENCE', 'PREEMINENT', 'PREMIER', 'PREMIERE', 'PRESTIGE', 'PRESTIGIOUS', 'PROACTIVE', 'PROACTIVELY', 'PROFICIENCY', 'PROFICIENT', 'PROFICIENTLY', 'PROFITABILITY', 'PROFITABLE', 'PROFITABLY', 'PROGRESS', 'PROGRESSED', 'PROGRESSES', 'PROGRESSING', 'PROSPERED', 'PROSPERING', 'PROSPERITY', 'PROSPEROUS', 'PROSPERS', 'REBOUND', 'REBOUNDED', 'REBOUNDING', 'RECEPTIVE', 'REGAIN', 'REGAINED', 'REGAINING', 'RESOLVE', 'REVOLUTIONIZE', 'REVOLUTIONIZED', 'REVOLUTIONIZES', 'REVOLUTIONIZING', 'REWARD', 'REWARDED', 'REWARDING', 'SATISFACTION', 'SATISFACTORILY', 'SATISFACTORY', 'SATISFIED', 'SATISFIES', 'SATISFY', 'SATISFYING', 'SMOOTH', 'SMOOTHING', 'SMOOTHLY', 'SMOOTHS', 'SOLVES', 'SOLVING', 'SPECTACULAR', 'SPECTACULARLY', 'STABILITY', 'STABILIZATION', 'STABILIZATIONS', 'STABILIZE', 'STABILIZED', 'STABILIZES', 'STABILIZING', 'STABLE', 'STRENGTH', 'STRENGTHEN', 'STRENGTHENED', 'STRENGTHENING', 'STRENGTHENS', 'STRENGTHS', 'STRONG', 'STRONGER', 'STRONGEST', 'SUCCEED', 'SUCCEEDED', 'SUCCEEDING', 'SUCCEEDS', 'SUCCESS', 'SUCCESSES', 'SUCCESSFUL', 'SUCCESSFULLY', 'SUPERIOR', 'SURPASS', 'SURPASSED', 'SURPASSES', 'SURPASSING', 'TRANSPARENCY', 'TREMENDOUS', 'TREMENDOUSLY', 'UNMATCHED', 'UNPARALLELED', 'UNSURPASSED', 'UPTURN', 'UPTURNS', 'VALUABLE', 'VERSATILE', 'VERSATILITY', 'VIBRANCY', 'VIBRANT', 'WIN', 'WINNER', 'WINNERS', 'WINNING', 'WORTHY']\n",
            "347\n"
          ]
        }
      ]
    },
    {
      "cell_type": "markdown",
      "source": [
        "## Regex matching:\n",
        "\n",
        "*   re.findall: Finds all matches of the word in the big_string.\n",
        "*   \\b: Ensures the match is a whole word.\n",
        "*   flags=re.IGNORECASE: Enables case-insensitive matching.\n",
        "\n"
      ],
      "metadata": {
        "id": "kG4mXPp4Geis"
      }
    },
    {
      "cell_type": "code",
      "source": [
        "import re"
      ],
      "metadata": {
        "id": "78V-vHphG5R9"
      },
      "execution_count": null,
      "outputs": []
    },
    {
      "cell_type": "code",
      "source": [
        "# Create DataFrame with words as rows\n",
        "df = pd.DataFrame(words, columns=['words'])\n",
        "\n",
        "# Calculate frequency using regex match\n",
        "df['frequency'] = df['words'].apply(lambda word: len(re.findall(rf'\\b{word}\\b', cleaned_text, flags=re.IGNORECASE)))\n",
        "\n",
        "# Display the DataFrame\n",
        "df = df.sort_values(by='frequency', ascending=False)\n",
        "print(df)"
      ],
      "metadata": {
        "colab": {
          "base_uri": "https://localhost:8080/"
        },
        "id": "aqMfLDNTGeG1",
        "outputId": "e746e8c1-c62b-4313-a310-ee28c422a422"
      },
      "execution_count": null,
      "outputs": [
        {
          "output_type": "stream",
          "name": "stdout",
          "text": [
            "            words  frequency\n",
            "111   EFFICIENTLY          2\n",
            "47           BEST          2\n",
            "110     EFFICIENT          1\n",
            "127  ENHANCEMENTS          1\n",
            "236      PERFECTS          0\n",
            "..            ...        ...\n",
            "113     EMPOWERED          0\n",
            "112       EMPOWER          0\n",
            "109    EFFICIENCY          0\n",
            "108  EFFICIENCIES          0\n",
            "120    ENCOURAGED          0\n",
            "\n",
            "[347 rows x 2 columns]\n"
          ]
        }
      ]
    },
    {
      "cell_type": "markdown",
      "source": [
        "## Plot the top words\n",
        "\n",
        "Bar Chart:\n",
        "* plt.bar: Creates the bar chart.\n",
        "* color: Sets the bar color.\n",
        "* xlabel, ylabel, title: Add labels and a title to the chart.\n",
        "* xticks, yticks: Adjust the font size of the ticks for better readability.\n",
        "* plt.show(): Displays the chart."
      ],
      "metadata": {
        "id": "SUvty2cFH1Gl"
      }
    },
    {
      "cell_type": "code",
      "source": [
        "import matplotlib.pyplot as plt\n",
        "\n",
        "top_words = df.head(5)\n",
        "\n",
        "# Plot a bar chart\n",
        "plt.figure(figsize=(10, 6))\n",
        "plt.bar(top_words['words'], top_words['frequency'], color='skyblue')\n",
        "plt.xlabel('Words', fontsize=14)\n",
        "plt.ylabel('Frequency', fontsize=14)\n",
        "plt.title('Top 5 Words by Frequency', fontsize=16)\n",
        "plt.xticks(fontsize=12)\n",
        "plt.yticks(fontsize=12)\n",
        "plt.show()"
      ],
      "metadata": {
        "colab": {
          "base_uri": "https://localhost:8080/",
          "height": 575
        },
        "id": "5jmHC-TlH4_0",
        "outputId": "d2bbebce-2ac7-445f-e7b9-986e0c270965"
      },
      "execution_count": null,
      "outputs": [
        {
          "output_type": "display_data",
          "data": {
            "text/plain": [
              "<Figure size 1000x600 with 1 Axes>"
            ],
            "image/png": "[encoded data removed]"
          },
          "metadata": {}
        }
      ]
    },
    {
      "cell_type": "markdown",
      "source": [
        "\n",
        "\n",
        "---\n",
        "\n",
        "## Natural Language Toolkit - NO RUN\n",
        "\n",
        "Key Features of NLTK:\n",
        "1. Text Processing Tools:\n",
        "Tokenization: Breaking text into words or sentences.\n",
        "Stemming: Reducing words to their base or root form.\n",
        "Lemmatization: Reducing words to their base form with context.\n",
        "Stopword Removal: Filtering out common words like \"and,\" \"the,\" etc.\n",
        "Corpus and Dataset Access:\n",
        "\n",
        "2. Comes with access to several corpora, such as movie reviews, WordNet, and more.\n",
        "\n",
        "3. Language Modeling: Supports building and training custom language models.\n",
        "Tools for n-grams, frequency distribution, and probability analysis.\n",
        "\n",
        "4. Part-of-Speech (POS) Tagging: Assigning grammatical tags like noun, verb, etc., to words.\n",
        "\n",
        "We wont run in colab since NLTK downloads big files - nltk.download('punkt')"
      ],
      "metadata": {
        "id": "pQEhzzX2O8Xf"
      }
    },
    {
      "cell_type": "code",
      "source": [
        "import nltk\n",
        "from nltk import word_tokenize, pos_tag, ne_chunk\n",
        "from nltk.tree import Tree\n",
        "\n",
        "nltk_text = \"The quick brown fox jumps over the lazy dog.\""
      ],
      "metadata": {
        "id": "Lg4qII1lPh8H"
      },
      "execution_count": null,
      "outputs": []
    },
    {
      "cell_type": "code",
      "source": [
        "# Tokenization\n",
        "tokens = word_tokenize(nltk_text)\n",
        "print(\"Tokens:\", tokens)"
      ],
      "metadata": {
        "colab": {
          "base_uri": "https://localhost:8080/",
          "height": 686
        },
        "id": "nM1kxn3XPm69",
        "outputId": "587dd017-dbf9-4adb-e461-c6861c58bc00"
      },
      "execution_count": null,
      "outputs": [
        {
          "output_type": "error",
          "ename": "LookupError",
          "evalue": "\n**********************************************************************\n  Resource \u001b[93mpunkt_tab\u001b[0m not found.\n  Please use the NLTK Downloader to obtain the resource:\n\n  \u001b[31m>>> import nltk\n  >>> nltk.download('punkt_tab')\n  \u001b[0m\n  For more information see: https://www.nltk.org/data.html\n\n  Attempted to load \u001b[93mtokenizers/punkt_tab/english/\u001b[0m\n\n  Searched in:\n    - '/root/nltk_data'\n    - '/usr/nltk_data'\n    - '/usr/share/nltk_data'\n    - '/usr/lib/nltk_data'\n    - '/usr/share/nltk_data'\n    - '/usr/local/share/nltk_data'\n    - '/usr/lib/nltk_data'\n    - '/usr/local/lib/nltk_data'\n**********************************************************************\n",
          "traceback": [
            "\u001b[0;31m---------------------------------------------------------------------------\u001b[0m",
            "\u001b[0;31mLookupError\u001b[0m                               Traceback (most recent call last)",
            "\u001b[0;32m<ipython-input-12-04d7f884ccfc>\u001b[0m in \u001b[0;36m<cell line: 0>\u001b[0;34m()\u001b[0m\n\u001b[1;32m      1\u001b[0m \u001b[0;31m# Tokenization\u001b[0m\u001b[0;34m\u001b[0m\u001b[0;34m\u001b[0m\u001b[0m\n\u001b[0;32m----> 2\u001b[0;31m \u001b[0mtokens\u001b[0m \u001b[0;34m=\u001b[0m \u001b[0mword_tokenize\u001b[0m\u001b[0;34m(\u001b[0m\u001b[0mnltk_text\u001b[0m\u001b[0;34m)\u001b[0m\u001b[0;34m\u001b[0m\u001b[0;34m\u001b[0m\u001b[0m\n\u001b[0m\u001b[1;32m      3\u001b[0m \u001b[0mprint\u001b[0m\u001b[0;34m(\u001b[0m\u001b[0;34m\"Tokens:\"\u001b[0m\u001b[0;34m,\u001b[0m \u001b[0mtokens\u001b[0m\u001b[0;34m)\u001b[0m\u001b[0;34m\u001b[0m\u001b[0;34m\u001b[0m\u001b[0m\n",
            "\u001b[0;32m/usr/local/lib/python3.11/dist-packages/nltk/tokenize/__init__.py\u001b[0m in \u001b[0;36mword_tokenize\u001b[0;34m(text, language, preserve_line)\u001b[0m\n\u001b[1;32m    140\u001b[0m     \u001b[0;34m:\u001b[0m\u001b[0mtype\u001b[0m \u001b[0mpreserve_line\u001b[0m\u001b[0;34m:\u001b[0m \u001b[0mbool\u001b[0m\u001b[0;34m\u001b[0m\u001b[0;34m\u001b[0m\u001b[0m\n\u001b[1;32m    141\u001b[0m     \"\"\"\n\u001b[0;32m--> 142\u001b[0;31m     \u001b[0msentences\u001b[0m \u001b[0;34m=\u001b[0m \u001b[0;34m[\u001b[0m\u001b[0mtext\u001b[0m\u001b[0;34m]\u001b[0m \u001b[0;32mif\u001b[0m \u001b[0mpreserve_line\u001b[0m \u001b[0;32melse\u001b[0m \u001b[0msent_tokenize\u001b[0m\u001b[0;34m(\u001b[0m\u001b[0mtext\u001b[0m\u001b[0;34m,\u001b[0m \u001b[0mlanguage\u001b[0m\u001b[0;34m)\u001b[0m\u001b[0;34m\u001b[0m\u001b[0;34m\u001b[0m\u001b[0m\n\u001b[0m\u001b[1;32m    143\u001b[0m     return [\n\u001b[1;32m    144\u001b[0m         \u001b[0mtoken\u001b[0m \u001b[0;32mfor\u001b[0m \u001b[0msent\u001b[0m \u001b[0;32min\u001b[0m \u001b[0msentences\u001b[0m \u001b[0;32mfor\u001b[0m \u001b[0mtoken\u001b[0m \u001b[0;32min\u001b[0m \u001b[0m_treebank_word_tokenizer\u001b[0m\u001b[0;34m.\u001b[0m\u001b[0mtokenize\u001b[0m\u001b[0;34m(\u001b[0m\u001b[0msent\u001b[0m\u001b[0;34m)\u001b[0m\u001b[0;34m\u001b[0m\u001b[0;34m\u001b[0m\u001b[0m\n",
            "\u001b[0;32m/usr/local/lib/python3.11/dist-packages/nltk/tokenize/__init__.py\u001b[0m in \u001b[0;36msent_tokenize\u001b[0;34m(text, language)\u001b[0m\n\u001b[1;32m    117\u001b[0m     \u001b[0;34m:\u001b[0m\u001b[0mparam\u001b[0m \u001b[0mlanguage\u001b[0m\u001b[0;34m:\u001b[0m \u001b[0mthe\u001b[0m \u001b[0mmodel\u001b[0m \u001b[0mname\u001b[0m \u001b[0;32min\u001b[0m \u001b[0mthe\u001b[0m \u001b[0mPunkt\u001b[0m \u001b[0mcorpus\u001b[0m\u001b[0;34m\u001b[0m\u001b[0;34m\u001b[0m\u001b[0m\n\u001b[1;32m    118\u001b[0m     \"\"\"\n\u001b[0;32m--> 119\u001b[0;31m     \u001b[0mtokenizer\u001b[0m \u001b[0;34m=\u001b[0m \u001b[0m_get_punkt_tokenizer\u001b[0m\u001b[0;34m(\u001b[0m\u001b[0mlanguage\u001b[0m\u001b[0;34m)\u001b[0m\u001b[0;34m\u001b[0m\u001b[0;34m\u001b[0m\u001b[0m\n\u001b[0m\u001b[1;32m    120\u001b[0m     \u001b[0;32mreturn\u001b[0m \u001b[0mtokenizer\u001b[0m\u001b[0;34m.\u001b[0m\u001b[0mtokenize\u001b[0m\u001b[0;34m(\u001b[0m\u001b[0mtext\u001b[0m\u001b[0;34m)\u001b[0m\u001b[0;34m\u001b[0m\u001b[0;34m\u001b[0m\u001b[0m\n\u001b[1;32m    121\u001b[0m \u001b[0;34m\u001b[0m\u001b[0m\n",
            "\u001b[0;32m/usr/local/lib/python3.11/dist-packages/nltk/tokenize/__init__.py\u001b[0m in \u001b[0;36m_get_punkt_tokenizer\u001b[0;34m(language)\u001b[0m\n\u001b[1;32m    103\u001b[0m     \u001b[0;34m:\u001b[0m\u001b[0mtype\u001b[0m \u001b[0mlanguage\u001b[0m\u001b[0;34m:\u001b[0m \u001b[0mstr\u001b[0m\u001b[0;34m\u001b[0m\u001b[0;34m\u001b[0m\u001b[0m\n\u001b[1;32m    104\u001b[0m     \"\"\"\n\u001b[0;32m--> 105\u001b[0;31m     \u001b[0;32mreturn\u001b[0m \u001b[0mPunktTokenizer\u001b[0m\u001b[0;34m(\u001b[0m\u001b[0mlanguage\u001b[0m\u001b[0;34m)\u001b[0m\u001b[0;34m\u001b[0m\u001b[0;34m\u001b[0m\u001b[0m\n\u001b[0m\u001b[1;32m    106\u001b[0m \u001b[0;34m\u001b[0m\u001b[0m\n\u001b[1;32m    107\u001b[0m \u001b[0;34m\u001b[0m\u001b[0m\n",
            "\u001b[0;32m/usr/local/lib/python3.11/dist-packages/nltk/tokenize/punkt.py\u001b[0m in \u001b[0;36m__init__\u001b[0;34m(self, lang)\u001b[0m\n\u001b[1;32m   1742\u001b[0m     \u001b[0;32mdef\u001b[0m \u001b[0m__init__\u001b[0m\u001b[0;34m(\u001b[0m\u001b[0mself\u001b[0m\u001b[0;34m,\u001b[0m \u001b[0mlang\u001b[0m\u001b[0;34m=\u001b[0m\u001b[0;34m\"english\"\u001b[0m\u001b[0;34m)\u001b[0m\u001b[0;34m:\u001b[0m\u001b[0;34m\u001b[0m\u001b[0;34m\u001b[0m\u001b[0m\n\u001b[1;32m   1743\u001b[0m         \u001b[0mPunktSentenceTokenizer\u001b[0m\u001b[0;34m.\u001b[0m\u001b[0m__init__\u001b[0m\u001b[0;34m(\u001b[0m\u001b[0mself\u001b[0m\u001b[0;34m)\u001b[0m\u001b[0;34m\u001b[0m\u001b[0;34m\u001b[0m\u001b[0m\n\u001b[0;32m-> 1744\u001b[0;31m         \u001b[0mself\u001b[0m\u001b[0;34m.\u001b[0m\u001b[0mload_lang\u001b[0m\u001b[0;34m(\u001b[0m\u001b[0mlang\u001b[0m\u001b[0;34m)\u001b[0m\u001b[0;34m\u001b[0m\u001b[0;34m\u001b[0m\u001b[0m\n\u001b[0m\u001b[1;32m   1745\u001b[0m \u001b[0;34m\u001b[0m\u001b[0m\n\u001b[1;32m   1746\u001b[0m     \u001b[0;32mdef\u001b[0m \u001b[0mload_lang\u001b[0m\u001b[0;34m(\u001b[0m\u001b[0mself\u001b[0m\u001b[0;34m,\u001b[0m \u001b[0mlang\u001b[0m\u001b[0;34m=\u001b[0m\u001b[0;34m\"english\"\u001b[0m\u001b[0;34m)\u001b[0m\u001b[0;34m:\u001b[0m\u001b[0;34m\u001b[0m\u001b[0;34m\u001b[0m\u001b[0m\n",
            "\u001b[0;32m/usr/local/lib/python3.11/dist-packages/nltk/tokenize/punkt.py\u001b[0m in \u001b[0;36mload_lang\u001b[0;34m(self, lang)\u001b[0m\n\u001b[1;32m   1747\u001b[0m         \u001b[0;32mfrom\u001b[0m \u001b[0mnltk\u001b[0m\u001b[0;34m.\u001b[0m\u001b[0mdata\u001b[0m \u001b[0;32mimport\u001b[0m \u001b[0mfind\u001b[0m\u001b[0;34m\u001b[0m\u001b[0;34m\u001b[0m\u001b[0m\n\u001b[1;32m   1748\u001b[0m \u001b[0;34m\u001b[0m\u001b[0m\n\u001b[0;32m-> 1749\u001b[0;31m         \u001b[0mlang_dir\u001b[0m \u001b[0;34m=\u001b[0m \u001b[0mfind\u001b[0m\u001b[0;34m(\u001b[0m\u001b[0;34mf\"tokenizers/punkt_tab/{lang}/\"\u001b[0m\u001b[0;34m)\u001b[0m\u001b[0;34m\u001b[0m\u001b[0;34m\u001b[0m\u001b[0m\n\u001b[0m\u001b[1;32m   1750\u001b[0m         \u001b[0mself\u001b[0m\u001b[0;34m.\u001b[0m\u001b[0m_params\u001b[0m \u001b[0;34m=\u001b[0m \u001b[0mload_punkt_params\u001b[0m\u001b[0;34m(\u001b[0m\u001b[0mlang_dir\u001b[0m\u001b[0;34m)\u001b[0m\u001b[0;34m\u001b[0m\u001b[0;34m\u001b[0m\u001b[0m\n\u001b[1;32m   1751\u001b[0m         \u001b[0mself\u001b[0m\u001b[0;34m.\u001b[0m\u001b[0m_lang\u001b[0m \u001b[0;34m=\u001b[0m \u001b[0mlang\u001b[0m\u001b[0;34m\u001b[0m\u001b[0;34m\u001b[0m\u001b[0m\n",
            "\u001b[0;32m/usr/local/lib/python3.11/dist-packages/nltk/data.py\u001b[0m in \u001b[0;36mfind\u001b[0;34m(resource_name, paths)\u001b[0m\n\u001b[1;32m    577\u001b[0m     \u001b[0msep\u001b[0m \u001b[0;34m=\u001b[0m \u001b[0;34m\"*\"\u001b[0m \u001b[0;34m*\u001b[0m \u001b[0;36m70\u001b[0m\u001b[0;34m\u001b[0m\u001b[0;34m\u001b[0m\u001b[0m\n\u001b[1;32m    578\u001b[0m     \u001b[0mresource_not_found\u001b[0m \u001b[0;34m=\u001b[0m \u001b[0;34mf\"\\n{sep}\\n{msg}\\n{sep}\\n\"\u001b[0m\u001b[0;34m\u001b[0m\u001b[0;34m\u001b[0m\u001b[0m\n\u001b[0;32m--> 579\u001b[0;31m     \u001b[0;32mraise\u001b[0m \u001b[0mLookupError\u001b[0m\u001b[0;34m(\u001b[0m\u001b[0mresource_not_found\u001b[0m\u001b[0;34m)\u001b[0m\u001b[0;34m\u001b[0m\u001b[0;34m\u001b[0m\u001b[0m\n\u001b[0m\u001b[1;32m    580\u001b[0m \u001b[0;34m\u001b[0m\u001b[0m\n\u001b[1;32m    581\u001b[0m \u001b[0;34m\u001b[0m\u001b[0m\n",
            "\u001b[0;31mLookupError\u001b[0m: \n**********************************************************************\n  Resource \u001b[93mpunkt_tab\u001b[0m not found.\n  Please use the NLTK Downloader to obtain the resource:\n\n  \u001b[31m>>> import nltk\n  >>> nltk.download('punkt_tab')\n  \u001b[0m\n  For more information see: https://www.nltk.org/data.html\n\n  Attempted to load \u001b[93mtokenizers/punkt_tab/english/\u001b[0m\n\n  Searched in:\n    - '/root/nltk_data'\n    - '/usr/nltk_data'\n    - '/usr/share/nltk_data'\n    - '/usr/lib/nltk_data'\n    - '/usr/share/nltk_data'\n    - '/usr/local/share/nltk_data'\n    - '/usr/lib/nltk_data'\n    - '/usr/local/lib/nltk_data'\n**********************************************************************\n"
          ]
        }
      ]
    },
    {
      "cell_type": "code",
      "source": [
        "# Part-of-Speech Tagging\n",
        "pos_tags = pos_tag(tokens)\n",
        "print(\"POS Tags:\", pos_tags)\n",
        "\n",
        "# Named Entity Recognition\n",
        "def extract_names(pos_tags):\n",
        "    named_entities = ne_chunk(pos_tags)\n",
        "    names = []\n",
        "    for entity in named_entities:\n",
        "        if isinstance(entity, Tree) and entity.label() in [\"PERSON\", \"ORGANIZATION\", \"GPE\"]:\n",
        "            name = \" \".join(c[0] for c in entity)\n",
        "            names.append(name)\n",
        "    return names\n",
        "\n",
        "names = extract_names(pos_tags)\n",
        "print(\"Names:\", names)\n"
      ],
      "metadata": {
        "id": "1gsCzUFQP2E_"
      },
      "execution_count": null,
      "outputs": []
    }
  ]
}